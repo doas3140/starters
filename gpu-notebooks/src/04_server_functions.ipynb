{
 "cells": [
  {
   "cell_type": "code",
   "execution_count": 1,
   "metadata": {},
   "outputs": [],
   "source": [
    "#| default_exp server_functions"
   ]
  },
  {
   "cell_type": "markdown",
   "metadata": {},
   "source": [
    "# Server"
   ]
  },
  {
   "cell_type": "code",
   "execution_count": 6,
   "metadata": {},
   "outputs": [],
   "source": [
    "#| export\n",
    "from nbs.core import say_hello, test_model, relpath, imread, imshow, imwrite"
   ]
  },
  {
   "cell_type": "code",
   "execution_count": 24,
   "metadata": {},
   "outputs": [],
   "source": [
    "#| export\n",
    "import cv2\n",
    "import io\n",
    "import numpy as np\n",
    "\n",
    "class FastApi:\n",
    "    async def file2np_img(image, convert4to3channels=True):\n",
    "        contents = await image.read()\n",
    "        nparr = np.fromstring(contents, np.uint8)\n",
    "        im = cv2.imdecode(nparr, cv2.IMREAD_UNCHANGED)\n",
    "        if im.shape[2] == 4 and convert4to3channels:\n",
    "            img = im[:,:,:3]\n",
    "            mask = im[:,:,3][:,:,None] / 255\n",
    "            im = (img * mask) + (np.ones_like(img)*255 * (1-mask))\n",
    "            im = np.array(im, np.uint8)\n",
    "        im = im[:,:,::-1]\n",
    "        return im\n",
    "    \n",
    "    def np_img2bytes(np_img):\n",
    "        np_img = np_img[:,:,::-1]\n",
    "        res, im_png = cv2.imencode(\".png\", np_img)\n",
    "        return io.BytesIO(im_png.tobytes())"
   ]
  },
  {
   "cell_type": "code",
   "execution_count": 8,
   "metadata": {},
   "outputs": [],
   "source": [
    "#| export\n",
    "class Ping:\n",
    "    def ping():\n",
    "        return {\"Hello\": say_hello('world')}\n",
    "    \n",
    "    def ping_model():\n",
    "        return {\"Hello\": test_model()}\n",
    "    \n",
    "    def ping_write_image():\n",
    "        return cv2.imread(relpath('data/test.png'))\n",
    "    \n",
    "    def ping_read_image(np_img):\n",
    "        return {\"Hello\": str(np_img.shape)}"
   ]
  },
  {
   "cell_type": "code",
   "execution_count": 13,
   "metadata": {},
   "outputs": [],
   "source": [
    "#| export\n",
    "from nbs.fastai_utils import ExamplePredictor\n",
    "class PingFastai:\n",
    "    def ping_fastai_pets(np_img):\n",
    "        predictor = ExamplePredictor()\n",
    "        predictor.load_learner('example_pets')\n",
    "        return predictor.predict(np_img)"
   ]
  },
  {
   "cell_type": "markdown",
   "metadata": {},
   "source": [
    "## Tests"
   ]
  },
  {
   "cell_type": "code",
   "execution_count": 14,
   "metadata": {},
   "outputs": [],
   "source": [
    "from nbs.test_utils import test_eq, test_fail, test_close, Test, test_one_notebook, test_all_notebooks"
   ]
  },
  {
   "cell_type": "code",
   "execution_count": 15,
   "metadata": {},
   "outputs": [],
   "source": [
    "with Test('Ping'):\n",
    "    res = Ping.ping()\n",
    "    test_eq(res['Hello'], 'Hi world!')"
   ]
  },
  {
   "cell_type": "code",
   "execution_count": 16,
   "metadata": {},
   "outputs": [],
   "source": [
    "with Test('FastAI Ping'):\n",
    "    with Test('pets'):\n",
    "        random_image = imread('/app/data/example_pets/Egyptian_Mau_1.jpg')\n",
    "        res = PingFastai.ping_fastai_pets(random_image)\n",
    "        test_close(res[0]['score'], 1.0, eps=1.0)"
   ]
  },
  {
   "cell_type": "code",
   "execution_count": 18,
   "metadata": {},
   "outputs": [
    {
     "name": "stdout",
     "output_type": "stream",
     "text": [
      "Starting 04_server_functions.ipynb\n",
      "- Completed 04_server_functions.ipynb\n",
      "success: True duration: 0.9736499786376953\n"
     ]
    }
   ],
   "source": [
    "#| notest\n",
    "from nbs.test_utils import test_one_notebook\n",
    "test_one_notebook('04_server_functions.ipynb')"
   ]
  },
  {
   "cell_type": "code",
   "execution_count": 25,
   "metadata": {},
   "outputs": [
    {
     "name": "stdout",
     "output_type": "stream",
     "text": [
      "Starting /app/src/index.ipynb\n",
      "- Completed /app/src/index.ipynb\n",
      "Starting /app/src/03_test_utils.ipynb\n",
      "- Completed /app/src/03_test_utils.ipynb\n",
      "Starting /app/src/01_import_test.ipynb\n",
      "- Completed /app/src/01_import_test.ipynb\n",
      "Starting /app/src/02_gpu_tests.ipynb\n",
      "- Completed /app/src/02_gpu_tests.ipynb\n",
      "Starting /app/src/04_server_functions.ipynb\n",
      "- Completed /app/src/04_server_functions.ipynb\n",
      "Starting /app/src/05_fastai_utils.ipynb\n",
      "- Completed /app/src/05_fastai_utils.ipynb\n",
      "Starting /app/src/00_core.ipynb\n",
      "- Completed /app/src/00_core.ipynb\n",
      "Success.\n"
     ]
    }
   ],
   "source": [
    "#| notest\n",
    "from nbs.test_utils import test_all_notebooks\n",
    "test_all_notebooks(do_print=True)"
   ]
  },
  {
   "cell_type": "code",
   "execution_count": 26,
   "metadata": {},
   "outputs": [],
   "source": [
    "!nbdev_export"
   ]
  },
  {
   "cell_type": "code",
   "execution_count": null,
   "metadata": {},
   "outputs": [],
   "source": []
  }
 ],
 "metadata": {
  "kernelspec": {
   "display_name": "Python 3 (ipykernel)",
   "language": "python",
   "name": "python3"
  },
  "language_info": {
   "codemirror_mode": {
    "name": "ipython",
    "version": 3
   },
   "file_extension": ".py",
   "mimetype": "text/x-python",
   "name": "python",
   "nbconvert_exporter": "python",
   "pygments_lexer": "ipython3",
   "version": "3.9.5"
  }
 },
 "nbformat": 4,
 "nbformat_minor": 2
}

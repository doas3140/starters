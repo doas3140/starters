{
 "cells": [
  {
   "cell_type": "code",
   "execution_count": 1,
   "metadata": {},
   "outputs": [],
   "source": [
    "#| default_exp server_functions"
   ]
  },
  {
   "cell_type": "markdown",
   "metadata": {},
   "source": [
    "# Server"
   ]
  },
  {
   "cell_type": "code",
   "execution_count": 5,
   "metadata": {},
   "outputs": [],
   "source": [
    "#| export\n",
    "from nbs.core import say_hello, test_model, relpath"
   ]
  },
  {
   "cell_type": "code",
   "execution_count": 18,
   "metadata": {},
   "outputs": [],
   "source": [
    "#| export\n",
    "import cv2\n",
    "import io\n",
    "import numpy as np\n",
    "\n",
    "class FastApi:\n",
    "    async def file2np_img(image):\n",
    "        contents = await image.read()\n",
    "        nparr = np.fromstring(contents, np.uint8)\n",
    "        im = cv2.imdecode(nparr, cv2.IMREAD_UNCHANGED)\n",
    "        # if im.shape[2] == 4:\n",
    "        #     img = im[:,:,:3]\n",
    "        #     mask = im[:,:,3][:,:,None] / 255\n",
    "        #     im = (img * mask) + (np.ones_like(img)*255 * (1-mask))\n",
    "        #     im = np.array(im, np.uint8)\n",
    "        im = im[:,:,::-1]\n",
    "        return im\n",
    "    \n",
    "    def np_img2bytes(np_img):\n",
    "        np_img = np_img[:,:,::-1]\n",
    "        res, im_png = cv2.imencode(\".png\", np_img)\n",
    "        return io.BytesIO(im_png.tobytes())"
   ]
  },
  {
   "cell_type": "code",
   "execution_count": 7,
   "metadata": {},
   "outputs": [],
   "source": [
    "#| export\n",
    "class Ping:\n",
    "    def ping():\n",
    "        return {\"Hello\": say_hello('world')}\n",
    "    \n",
    "    def ping_model():\n",
    "        return {\"Hello\": test_model()}\n",
    "    \n",
    "    def ping_write_image():\n",
    "        return cv2.imread(relpath('data/test.png'))\n",
    "    \n",
    "    def ping_read_image(np_img):\n",
    "        return {\"Hello\": str(np_img.shape)}"
   ]
  },
  {
   "cell_type": "markdown",
   "metadata": {},
   "source": [
    "## Tests"
   ]
  },
  {
   "cell_type": "code",
   "execution_count": 8,
   "metadata": {},
   "outputs": [],
   "source": [
    "from nbs.test_utils import test_eq, test_fail, test_one_notebook, test_all_notebooks"
   ]
  },
  {
   "cell_type": "code",
   "execution_count": 9,
   "metadata": {},
   "outputs": [],
   "source": [
    "res = Ping.ping()\n",
    "test_eq(res['Hello'], 'Hi world!')"
   ]
  },
  {
   "cell_type": "code",
   "execution_count": 13,
   "metadata": {},
   "outputs": [
    {
     "name": "stdout",
     "output_type": "stream",
     "text": [
      "Starting 04_server_functions.ipynb\n",
      "- Completed 04_server_functions.ipynb\n",
      "success: True duration: 0.6788535118103027\n"
     ]
    }
   ],
   "source": [
    "#| notest\n",
    "test_one_notebook('04_server_functions.ipynb')"
   ]
  },
  {
   "cell_type": "code",
   "execution_count": 19,
   "metadata": {},
   "outputs": [],
   "source": [
    "!nbdev_export"
   ]
  },
  {
   "cell_type": "code",
   "execution_count": null,
   "metadata": {},
   "outputs": [],
   "source": []
  }
 ],
 "metadata": {
  "kernelspec": {
   "display_name": "Python 3 (ipykernel)",
   "language": "python",
   "name": "python3"
  },
  "language_info": {
   "codemirror_mode": {
    "name": "ipython",
    "version": 3
   },
   "file_extension": ".py",
   "mimetype": "text/x-python",
   "name": "python",
   "nbconvert_exporter": "python",
   "pygments_lexer": "ipython3",
   "version": "3.9.5"
  }
 },
 "nbformat": 4,
 "nbformat_minor": 2
}

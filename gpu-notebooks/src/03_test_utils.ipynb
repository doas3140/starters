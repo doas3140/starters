{
 "cells": [
  {
   "cell_type": "code",
   "execution_count": 1,
   "metadata": {},
   "outputs": [],
   "source": [
    "#| default_exp test_utils"
   ]
  },
  {
   "cell_type": "markdown",
   "metadata": {},
   "source": [
    "# Unit Tests\n",
    "\n",
    "https://github.com/fastai/nbdev/blob/master/nbs/tutorials/best_practices.ipynb\n"
   ]
  },
  {
   "cell_type": "code",
   "execution_count": 4,
   "metadata": {},
   "outputs": [],
   "source": [
    "#| export\n",
    "import fastcore\n",
    "from nbdev import test as npdev_test\n",
    "import numpy as np\n",
    "from pathlib import Path"
   ]
  },
  {
   "cell_type": "code",
   "execution_count": 5,
   "metadata": {},
   "outputs": [],
   "source": [
    "#| export\n",
    "test_eq = fastcore.test.test_eq"
   ]
  },
  {
   "cell_type": "code",
   "execution_count": 9,
   "metadata": {},
   "outputs": [],
   "source": [
    "#| export\n",
    "test_fail = fastcore.test.test_fail\n",
    "def divide(x, y): return x / y"
   ]
  },
  {
   "cell_type": "code",
   "execution_count": 30,
   "metadata": {},
   "outputs": [],
   "source": [
    "#| export\n",
    "test_close = fastcore.test.test_close"
   ]
  },
  {
   "cell_type": "code",
   "execution_count": 38,
   "metadata": {},
   "outputs": [],
   "source": [
    "#| export\n",
    "def test_one_notebook(notebook_name = '03_test_utils.ipynb'):\n",
    "    _nb = Path(notebook_name)\n",
    "    success,duration = npdev_test.test_nb(_nb, force_flags=None, skip_flags=['notest'], do_print=True)\n",
    "    print(f'success: {success} duration: {duration}')\n",
    "    \n",
    "test_all_notebooks = npdev_test.nbdev_test"
   ]
  },
  {
   "cell_type": "code",
   "execution_count": 11,
   "metadata": {},
   "outputs": [],
   "source": [
    "#| export\n",
    "class Test:\n",
    "    def __init__(self, name):\n",
    "        self.name = name\n",
    "    \n",
    "    def __enter__(self):\n",
    "        pass\n",
    "    \n",
    "    def __exit__(self, a, b, c):\n",
    "        pass"
   ]
  },
  {
   "cell_type": "code",
   "execution_count": 21,
   "metadata": {},
   "outputs": [],
   "source": [
    "with Test('should pass this test'):\n",
    "    test_eq('Hammer', 'Hammer')"
   ]
  },
  {
   "cell_type": "code",
   "execution_count": 26,
   "metadata": {},
   "outputs": [],
   "source": [
    "#| notest\n",
    "with Test('should fail this test but skip it when running notebook tests'):\n",
    "    test_eq('Hummer', 'Hammer') # it skips this one"
   ]
  },
  {
   "cell_type": "code",
   "execution_count": 22,
   "metadata": {},
   "outputs": [],
   "source": [
    "with Test('should pass this failing assert'):\n",
    "    test_fail(lambda: divide(1, 0), contains=\"division by zero\")"
   ]
  },
  {
   "cell_type": "code",
   "execution_count": 28,
   "metadata": {},
   "outputs": [
    {
     "name": "stdout",
     "output_type": "stream",
     "text": [
      "Starting 03_test_utils.ipynb\n",
      "- Completed 03_test_utils.ipynb\n",
      "success: True duration: 0.6763932704925537\n"
     ]
    }
   ],
   "source": [
    "#| notest\n",
    "test_one_notebook('03_test_utils.ipynb')"
   ]
  },
  {
   "cell_type": "code",
   "execution_count": 39,
   "metadata": {},
   "outputs": [
    {
     "name": "stdout",
     "output_type": "stream",
     "text": [
      "Starting /app/src/04_server_functions.ipynb\n",
      "- Completed /app/src/04_server_functions.ipynb\n",
      "Starting /app/src/index.ipynb\n",
      "- Completed /app/src/index.ipynb\n",
      "Starting /app/src/01_import_test.ipynb\n",
      "- Completed /app/src/01_import_test.ipynb\n",
      "Starting /app/src/03_test_utils.ipynb\n",
      "- Completed /app/src/03_test_utils.ipynb\n",
      "Starting /app/src/02_gpu_tests.ipynb\n",
      "- Completed /app/src/02_gpu_tests.ipynb\n",
      "Starting /app/src/05_fastai_utils.ipynb\n",
      "- Completed /app/src/05_fastai_utils.ipynb\n",
      "Starting /app/src/00_core.ipynb\n",
      "- Completed /app/src/00_core.ipynb\n",
      "Success.\n"
     ]
    }
   ],
   "source": [
    "#| notest\n",
    "test_all_notebooks(do_print=True)"
   ]
  },
  {
   "cell_type": "code",
   "execution_count": 35,
   "metadata": {},
   "outputs": [],
   "source": [
    "!nbdev_export"
   ]
  },
  {
   "cell_type": "code",
   "execution_count": null,
   "metadata": {},
   "outputs": [],
   "source": []
  }
 ],
 "metadata": {
  "kernelspec": {
   "display_name": "Python 3 (ipykernel)",
   "language": "python",
   "name": "python3"
  },
  "language_info": {
   "codemirror_mode": {
    "name": "ipython",
    "version": 3
   },
   "file_extension": ".py",
   "mimetype": "text/x-python",
   "name": "python",
   "nbconvert_exporter": "python",
   "pygments_lexer": "ipython3",
   "version": "3.9.5"
  }
 },
 "nbformat": 4,
 "nbformat_minor": 2
}

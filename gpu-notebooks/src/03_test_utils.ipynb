{
 "cells": [
  {
   "cell_type": "code",
   "execution_count": 1,
   "metadata": {},
   "outputs": [],
   "source": [
    "#| default_exp test_utils"
   ]
  },
  {
   "cell_type": "markdown",
   "metadata": {},
   "source": [
    "# Unit Tests\n",
    "\n",
    "https://github.com/fastai/nbdev/blob/master/nbs/tutorials/best_practices.ipynb\n"
   ]
  },
  {
   "cell_type": "code",
   "execution_count": 71,
   "metadata": {},
   "outputs": [],
   "source": [
    "#| export\n",
    "import fastcore\n",
    "from nbdev import test as npdev_test\n",
    "import numpy as np\n",
    "from pathlib import Path"
   ]
  },
  {
   "cell_type": "code",
   "execution_count": 64,
   "metadata": {},
   "outputs": [],
   "source": [
    "#| export\n",
    "test_eq = fastcore.test.test_eq\n",
    "test_eq('Hammer', 'Hammer')"
   ]
  },
  {
   "cell_type": "code",
   "execution_count": 66,
   "metadata": {},
   "outputs": [],
   "source": [
    "#| notest\n",
    "test_eq('Hummer', 'Hammer') # it skips this one"
   ]
  },
  {
   "cell_type": "code",
   "execution_count": 67,
   "metadata": {},
   "outputs": [],
   "source": [
    "#| export\n",
    "test_fail = fastcore.test.test_fail\n",
    "def divide(x, y): return x / y\n",
    "test_fail(lambda: divide(1, 0), contains=\"division by zero\")"
   ]
  },
  {
   "cell_type": "code",
   "execution_count": 68,
   "metadata": {},
   "outputs": [],
   "source": [
    "#| export\n",
    "def test_one_notebook(notebook_name = '03_test_utils.ipynb'):\n",
    "    _nb = Path(notebook_name)\n",
    "    success,duration = npdev_test.test_nb(_nb, skip_flags=['notest'], do_print=True)\n",
    "    print(f'success: {success} duration: {duration}')\n",
    "    \n",
    "def test_all_notebooks():\n",
    "    npdev_test.nbdev_test()"
   ]
  },
  {
   "cell_type": "code",
   "execution_count": 72,
   "metadata": {},
   "outputs": [
    {
     "name": "stdout",
     "output_type": "stream",
     "text": [
      "Starting 03_test_utils.ipynb\n",
      "- Completed 03_test_utils.ipynb\n",
      "success: True duration: 0.6691091060638428\n"
     ]
    }
   ],
   "source": [
    "#| notest\n",
    "test_one_notebook('03_test_utils.ipynb')"
   ]
  },
  {
   "cell_type": "code",
   "execution_count": 59,
   "metadata": {},
   "outputs": [
    {
     "name": "stdout",
     "output_type": "stream",
     "text": [
      "Success.\n"
     ]
    }
   ],
   "source": [
    "#| notest\n",
    "test_all_notebooks()"
   ]
  },
  {
   "cell_type": "code",
   "execution_count": 73,
   "metadata": {},
   "outputs": [],
   "source": [
    "!nbdev_export"
   ]
  },
  {
   "cell_type": "code",
   "execution_count": null,
   "metadata": {},
   "outputs": [],
   "source": []
  }
 ],
 "metadata": {
  "kernelspec": {
   "display_name": "Python 3 (ipykernel)",
   "language": "python",
   "name": "python3"
  },
  "language_info": {
   "codemirror_mode": {
    "name": "ipython",
    "version": 3
   },
   "file_extension": ".py",
   "mimetype": "text/x-python",
   "name": "python",
   "nbconvert_exporter": "python",
   "pygments_lexer": "ipython3",
   "version": "3.9.5"
  }
 },
 "nbformat": 4,
 "nbformat_minor": 2
}
